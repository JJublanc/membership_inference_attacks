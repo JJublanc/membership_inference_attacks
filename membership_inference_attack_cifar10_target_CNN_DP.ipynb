{
 "cells": [
  {
   "cell_type": "markdown",
   "metadata": {},
   "source": [
    "# Membership inference attack with images\n",
    "## Target a CNN\n",
    "Authors : Johan Jublanc\n",
    "\n",
    "We use this article to simulate a membership inference attack : https://arxiv.org/pdf/1807.09173.pdf\n",
    "\n",
    "Usefull reference : https://medium.com/disaitek/demystifying-the-membership-inference-attack-e33e510a0c39"
   ]
  },
  {
   "cell_type": "markdown",
   "metadata": {},
   "source": [
    "### Imports"
   ]
  },
  {
   "cell_type": "code",
   "execution_count": 1,
   "metadata": {
    "collapsed": true,
    "jupyter": {
     "outputs_hidden": true
    }
   },
   "outputs": [
    {
     "name": "stdout",
     "output_type": "stream",
     "text": [
      "Requirement already satisfied: pandas==0.24.2 in /opt/conda/lib/python3.7/site-packages (from -r requirements.txt (line 1)) (0.24.2)\n",
      "Requirement already satisfied: matplotlib==3.0.3 in /opt/conda/lib/python3.7/site-packages (from -r requirements.txt (line 2)) (3.0.3)\n",
      "Requirement already satisfied: xgboost==0.90 in /opt/conda/lib/python3.7/site-packages (from -r requirements.txt (line 3)) (0.90)\n",
      "Requirement already satisfied: scikit-learn==0.20.3 in /opt/conda/lib/python3.7/site-packages (from -r requirements.txt (line 4)) (0.20.3)\n",
      "Requirement already satisfied: tensorflow_privacy in /opt/conda/lib/python3.7/site-packages (from -r requirements.txt (line 5)) (0.2.2)\n",
      "Requirement already satisfied: python-dateutil>=2.5.0 in /opt/conda/lib/python3.7/site-packages (from pandas==0.24.2->-r requirements.txt (line 1)) (2.8.1)\n",
      "Requirement already satisfied: pytz>=2011k in /opt/conda/lib/python3.7/site-packages (from pandas==0.24.2->-r requirements.txt (line 1)) (2019.3)\n",
      "Requirement already satisfied: numpy>=1.12.0 in /opt/conda/lib/python3.7/site-packages (from pandas==0.24.2->-r requirements.txt (line 1)) (1.18.1)\n",
      "Requirement already satisfied: kiwisolver>=1.0.1 in /opt/conda/lib/python3.7/site-packages (from matplotlib==3.0.3->-r requirements.txt (line 2)) (1.1.0)\n",
      "Requirement already satisfied: pyparsing!=2.0.4,!=2.1.2,!=2.1.6,>=2.0.1 in /opt/conda/lib/python3.7/site-packages (from matplotlib==3.0.3->-r requirements.txt (line 2)) (2.4.6)\n",
      "Requirement already satisfied: cycler>=0.10 in /opt/conda/lib/python3.7/site-packages (from matplotlib==3.0.3->-r requirements.txt (line 2)) (0.10.0)\n",
      "Requirement already satisfied: scipy in /opt/conda/lib/python3.7/site-packages (from xgboost==0.90->-r requirements.txt (line 3)) (1.4.1)\n",
      "Requirement already satisfied: mpmath in /opt/conda/lib/python3.7/site-packages (from tensorflow_privacy->-r requirements.txt (line 5)) (1.1.0)\n",
      "Requirement already satisfied: six>=1.5 in /opt/conda/lib/python3.7/site-packages (from python-dateutil>=2.5.0->pandas==0.24.2->-r requirements.txt (line 1)) (1.14.0)\n",
      "Requirement already satisfied: setuptools in /opt/conda/lib/python3.7/site-packages (from kiwisolver>=1.0.1->matplotlib==3.0.3->-r requirements.txt (line 2)) (45.2.0.post20200209)\n"
     ]
    }
   ],
   "source": [
    "# !pip install -r requirements.txt"
   ]
  },
  {
   "cell_type": "code",
   "execution_count": 1,
   "metadata": {},
   "outputs": [],
   "source": [
    "import numpy as np\n",
    "import pandas as pd\n",
    "from sklearn import datasets\n",
    "\n",
    "from os import listdir\n",
    "from os.path import isfile, join\n",
    "\n",
    "import urllib.request\n",
    "\n",
    "import tarfile\n",
    "\n",
    "from sklearn import metrics\n",
    "import xgboost as xgb\n",
    "\n",
    "from scipy.ndimage import rotate\n",
    "\n",
    "from tensorflow.keras.models import Sequential\n",
    "from tensorflow.keras.layers import Conv2D, MaxPooling2D, Dense, Flatten, Dropout\n",
    "from tensorflow.keras.optimizers import SGD\n",
    "\n",
    "import matplotlib.pyplot as plt"
   ]
  },
  {
   "cell_type": "code",
   "execution_count": 2,
   "metadata": {},
   "outputs": [],
   "source": [
    "import tensorflow as tf\n",
    "import IPython.display as display\n",
    "from PIL import Image\n",
    "import numpy as np\n",
    "import matplotlib.pyplot as plt\n",
    "import os"
   ]
  },
  {
   "cell_type": "code",
   "execution_count": 3,
   "metadata": {},
   "outputs": [],
   "source": [
    "tf.compat.v1.enable_eager_execution()"
   ]
  },
  {
   "cell_type": "code",
   "execution_count": 4,
   "metadata": {},
   "outputs": [
    {
     "data": {
      "text/plain": [
       "'1.15.2'"
      ]
     },
     "execution_count": 4,
     "metadata": {},
     "output_type": "execute_result"
    }
   ],
   "source": [
    "# tf.__version__ == 2.x\n",
    "tf.__version__"
   ]
  },
  {
   "cell_type": "markdown",
   "metadata": {},
   "source": [
    "## Get the data from cifar10"
   ]
  },
  {
   "cell_type": "markdown",
   "metadata": {},
   "source": [
    "We use the CIFAR10 data which is a dataset of color images of size 32x32. For more information let's go here :\n",
    "- https://www.cs.toronto.edu/~kriz/cifar.html"
   ]
  },
  {
   "cell_type": "markdown",
   "metadata": {},
   "source": [
    "The process can take a while ;)"
   ]
  },
  {
   "cell_type": "code",
   "execution_count": 5,
   "metadata": {
    "scrolled": true
   },
   "outputs": [],
   "source": [
    "url = 'https://www.cs.toronto.edu/~kriz/cifar-10-python.tar.gz'\n",
    "# urllib.request.urlretrieve(url, data_file_name)"
   ]
  },
  {
   "cell_type": "code",
   "execution_count": 6,
   "metadata": {},
   "outputs": [],
   "source": [
    "import pathlib\n",
    "data_dir = tf.keras.utils.get_file(origin=url, fname='cifar10', untar=True)"
   ]
  },
  {
   "cell_type": "code",
   "execution_count": 7,
   "metadata": {},
   "outputs": [
    {
     "data": {
      "text/plain": [
       "['data_batch_2',\n",
       " 'data_batch_3',\n",
       " 'data_batch_4',\n",
       " 'batches.meta',\n",
       " 'readme.html',\n",
       " 'data_batch_1',\n",
       " 'test_batch',\n",
       " 'data_batch_5']"
      ]
     },
     "execution_count": 7,
     "metadata": {},
     "output_type": "execute_result"
    }
   ],
   "source": [
    "root_keras_data_path = \"/\".join(data_dir.split(\"/\")[:5])\n",
    "cifar_data_path = os.path.join(root_keras_data_path, \"cifar-10-batches-py\")\n",
    "os.listdir(cifar_data_path)"
   ]
  },
  {
   "cell_type": "code",
   "execution_count": 8,
   "metadata": {},
   "outputs": [],
   "source": [
    "data_batches_names = []\n",
    "for item in os.listdir(cifar_data_path):\n",
    "    if item.startswith(\"data_batch\"):\n",
    "        data_batches_names.append(item)"
   ]
  },
  {
   "cell_type": "markdown",
   "metadata": {},
   "source": [
    "CIFAR10 data are splited in batches. For this example the first batche is used to build up a classifier and the second one will be used to build up the attack."
   ]
  },
  {
   "cell_type": "code",
   "execution_count": 9,
   "metadata": {},
   "outputs": [],
   "source": [
    "def unpickle(file):\n",
    "    import pickle\n",
    "    with open(file, 'rb') as fo:\n",
    "        dict = pickle.load(fo, encoding='bytes')\n",
    "    return dict"
   ]
  },
  {
   "cell_type": "code",
   "execution_count": 10,
   "metadata": {
    "scrolled": true
   },
   "outputs": [
    {
     "name": "stdout",
     "output_type": "stream",
     "text": [
      "data_batch_2\n",
      "data_batch_3\n",
      "data_batch_4\n",
      "data_batch_1\n",
      "data_batch_5\n"
     ]
    }
   ],
   "source": [
    "data = []\n",
    "for data_batches_name in data_batches_names:\n",
    "    data.append(unpickle(os.path.join(cifar_data_path, data_batches_name)))\n",
    "    print(data_batches_name)"
   ]
  },
  {
   "cell_type": "markdown",
   "metadata": {},
   "source": [
    "__Split data__"
   ]
  },
  {
   "cell_type": "markdown",
   "metadata": {},
   "source": [
    "We firstly build a model that is trained on the dataset $data_b$, the dataset $data_a$ is used to evaluate the attack."
   ]
  },
  {
   "cell_type": "code",
   "execution_count": 14,
   "metadata": {},
   "outputs": [],
   "source": [
    "x_a = data[0][b\"data\"]\n",
    "y_a = data[0][b\"labels\"]\n",
    "\n",
    "x_b = data[1][b\"data\"]\n",
    "y_b = data[1][b\"labels\"]"
   ]
  },
  {
   "cell_type": "markdown",
   "metadata": {},
   "source": [
    "__Get a shadow dataset__"
   ]
  },
  {
   "cell_type": "markdown",
   "metadata": {},
   "source": [
    "Here the attacker knows another dataset that is similar to D. Here we use batch 2."
   ]
  },
  {
   "cell_type": "code",
   "execution_count": 15,
   "metadata": {},
   "outputs": [
    {
     "name": "stdout",
     "output_type": "stream",
     "text": [
      "/home/jupyter/.keras/datasets/cifar-10-batches-py/data_batch_2\n"
     ]
    }
   ],
   "source": [
    "x_prim_in = data[2][b\"data\"]\n",
    "y_prim_in = data[2][b\"labels\"]\n",
    "print(os.path.join(cifar_data_path, data_batches_names[0]))"
   ]
  },
  {
   "cell_type": "markdown",
   "metadata": {},
   "source": [
    "__Batch 3 is used to get intput out of scope used to train the shadow model__"
   ]
  },
  {
   "cell_type": "code",
   "execution_count": 16,
   "metadata": {},
   "outputs": [],
   "source": [
    "x_prim_out = data[3][b'data']\n",
    "y_prim_out = data[3][b'labels']"
   ]
  },
  {
   "cell_type": "markdown",
   "metadata": {},
   "source": [
    "__Define training parameters__"
   ]
  },
  {
   "cell_type": "code",
   "execution_count": 17,
   "metadata": {},
   "outputs": [],
   "source": [
    "BATCH_SIZE = 32 # try 128 ?\n",
    "IMG_HEIGHT = 224\n",
    "IMG_WIDTH = 224\n",
    "SHUFFLE_SIZE = 200 # buffer size ? try 1000 ? \n",
    "NUM_EPOCHS = 200"
   ]
  },
  {
   "cell_type": "code",
   "execution_count": 19,
   "metadata": {},
   "outputs": [],
   "source": [
    "input_shape = (32, 32, 3)\n",
    "num_classes = 10\n",
    "len_train = 8000"
   ]
  },
  {
   "cell_type": "code",
   "execution_count": 20,
   "metadata": {},
   "outputs": [],
   "source": [
    "train_target = True\n",
    "train_shadow = True"
   ]
  },
  {
   "cell_type": "markdown",
   "metadata": {},
   "source": [
    "## Function constituting the whole pipeline :\n",
    "* reshape images\n",
    "* create a MapDataset\n",
    "* plt example images\n",
    "* create a target\n",
    "* load and save trained models"
   ]
  },
  {
   "cell_type": "code",
   "execution_count": 18,
   "metadata": {},
   "outputs": [],
   "source": [
    "def reshape_images(flat_array):\n",
    "    flat_array_normalized = tf.cast(flat_array, tf.float32) / 255.\n",
    "    img_reshaped = tf.reshape(flat_array_normalized, (3, 32, 32))\n",
    "    return tf.transpose(img_reshaped)"
   ]
  },
  {
   "cell_type": "markdown",
   "metadata": {},
   "source": [
    "We define a function to create a dataset tensorflow"
   ]
  },
  {
   "cell_type": "code",
   "execution_count": 21,
   "metadata": {},
   "outputs": [],
   "source": [
    "def input_fn(flat_arrays, labels, \n",
    "             BATCH_SIZE = BATCH_SIZE, \n",
    "             SHUFFLE_SIZE = SHUFFLE_SIZE, \n",
    "             NUM_EPOCHS = NUM_EPOCHS):\n",
    "    ds_x = tf.data.Dataset.from_tensor_slices(flat_arrays)\n",
    "    ds_x = ds_x.map(reshape_images)\n",
    "    ds_y = tf.data.Dataset.from_tensor_slices(labels)\n",
    "    ds_x_y = tf.data\\\n",
    "               .Dataset\\\n",
    "               .zip((ds_x, ds_y))\\\n",
    "               .shuffle(SHUFFLE_SIZE)\\\n",
    "               .repeat()\\\n",
    "               .batch(BATCH_SIZE)\\\n",
    "               .prefetch(1)\n",
    "    return ds_x_y"
   ]
  },
  {
   "cell_type": "code",
   "execution_count": 22,
   "metadata": {},
   "outputs": [
    {
     "name": "stdout",
     "output_type": "stream",
     "text": [
      "<DatasetV1Adapter shapes: ((?, 32, 32, 3), (?,)), types: (tf.float32, tf.int32)>\n"
     ]
    }
   ],
   "source": [
    "# check dataset generation\n",
    "dataset = input_fn(x_a, y_b)\n",
    "print(dataset)"
   ]
  },
  {
   "cell_type": "code",
   "execution_count": 23,
   "metadata": {},
   "outputs": [],
   "source": [
    "def plt_img_labels(img_batch, label_batch):\n",
    "    plt.figure(figsize=(10,10))\n",
    "\n",
    "    for n in range(25):\n",
    "        ax = plt.subplot(5,5,n+1)\n",
    "        img = rotate(img_batch[n], -90)\n",
    "        plt.imshow(img)\n",
    "        plt.title(str(label_batch[n].numpy()))\n",
    "        plt.axis('off')"
   ]
  },
  {
   "cell_type": "markdown",
   "metadata": {},
   "source": [
    "A first model is trained on 80% of the $data_b$ and test on the 20% left\n",
    "We use this article to build a quite good model : https://machinelearningmastery.com/how-to-develop-a-cnn-from-scratch-for-cifar-10-photo-classification/"
   ]
  },
  {
   "cell_type": "code",
   "execution_count": 24,
   "metadata": {},
   "outputs": [],
   "source": [
    "def create_model(input_shape, opt):\n",
    "    model = Sequential()\n",
    "    model.add(Conv2D(32, (3, 3), \n",
    "                     activation='relu', \n",
    "                     kernel_initializer='he_uniform', \n",
    "                     padding='same', \n",
    "                     input_shape=input_shape))\n",
    "    model.add(Conv2D(32, (3, 3), activation='relu', \n",
    "                     kernel_initializer='he_uniform', \n",
    "                     padding='same'))\n",
    "    model.add(MaxPooling2D((2, 2)))\n",
    "    # model.add(Dropout(0.2))\n",
    "    model.add(Conv2D(64, (3, 3), activation='relu', \n",
    "                     kernel_initializer='he_uniform', \n",
    "                     padding='same'))\n",
    "    model.add(Conv2D(64, (3, 3), activation='relu', \n",
    "                     kernel_initializer='he_uniform', \n",
    "                     padding='same'))\n",
    "    model.add(MaxPooling2D((2, 2)))\n",
    "    # model.add(Dropout(0.2))\n",
    "    model.add(Conv2D(128, (3, 3), activation='relu', \n",
    "                     kernel_initializer='he_uniform', \n",
    "                     padding='same'))\n",
    "    model.add(Conv2D(128, (3, 3), activation='relu', \n",
    "                     kernel_initializer='he_uniform', \n",
    "                     padding='same'))\n",
    "    model.add(MaxPooling2D((2, 2)))\n",
    "    # model.add(Dropout(0.2))\n",
    "    model.add(Flatten())\n",
    "    model.add(Dense(128, activation='relu', \n",
    "                    kernel_initializer='he_uniform'))\n",
    "    # model.add(Dropout(0.2))\n",
    "    model.add(Dense(10, activation='softmax'))\n",
    "    \n",
    "    # compile model\n",
    "    model.compile(loss=tf.keras.losses.SparseCategoricalCrossentropy(from_logits=True),\n",
    "                  optimizer=opt,\n",
    "                  metrics=['sparse_categorical_accuracy'])\n",
    "    return model"
   ]
  },
  {
   "cell_type": "markdown",
   "metadata": {},
   "source": [
    "__Load/Save model__"
   ]
  },
  {
   "cell_type": "code",
   "execution_count": 25,
   "metadata": {},
   "outputs": [],
   "source": [
    "if \"models\" not in os.listdir():\n",
    "    os.mkdir(\"models\")"
   ]
  },
  {
   "cell_type": "code",
   "execution_count": 26,
   "metadata": {},
   "outputs": [],
   "source": [
    "import glob\n",
    "def return_model_num(pattern):\n",
    "    target_models_list = glob.glob(pattern)\n",
    "    num_list = [x.split(\"/\")[1].split(\".\")[0].split(\"_\")[1] for x in target_models_list]\n",
    "    num_list_int = [int(x) for x in num_list]\n",
    "    return np.max(num_list_int)"
   ]
  },
  {
   "cell_type": "code",
   "execution_count": 27,
   "metadata": {},
   "outputs": [],
   "source": [
    "def save_new_model(pattern, model):\n",
    "    if len(glob.glob(pattern))==0:\n",
    "        model.save(pattern.split(\"_\")[0] + \"_0.h5\")\n",
    "    else:\n",
    "        num = return_model_num(pattern) + 1\n",
    "        model.save(pattern.replace(\"*\", str(num)))"
   ]
  },
  {
   "cell_type": "code",
   "execution_count": 28,
   "metadata": {},
   "outputs": [],
   "source": [
    "def get_model(pattern, input_shape, opt):\n",
    "    if len(glob.glob(pattern))==0:\n",
    "        model = create_model(input_shape, opt)\n",
    "    else:\n",
    "        num = return_model_num(pattern)\n",
    "        filepath = pattern.replace(\"*\", str(num))\n",
    "        model = tf.keras.models.load_model(filepath)\n",
    "        print(filepath)\n",
    "    return model"
   ]
  },
  {
   "cell_type": "markdown",
   "metadata": {},
   "source": [
    "## Train target model"
   ]
  },
  {
   "cell_type": "markdown",
   "metadata": {},
   "source": [
    "__Create dataset objects__"
   ]
  },
  {
   "cell_type": "code",
   "execution_count": 29,
   "metadata": {},
   "outputs": [],
   "source": [
    "ds_xy_b = input_fn(x_b, y_b)\n",
    "ds_xy_a = input_fn(x_a, y_a)"
   ]
  },
  {
   "cell_type": "markdown",
   "metadata": {},
   "source": [
    "__Plot some example__"
   ]
  },
  {
   "cell_type": "code",
   "execution_count": 30,
   "metadata": {
    "collapsed": true,
    "jupyter": {
     "outputs_hidden": true
    }
   },
   "outputs": [
    {
     "name": "stderr",
     "output_type": "stream",
     "text": [
      "Clipping input data to the valid range for imshow with RGB data ([0..1] for floats or [0..255] for integers).\n",
      "Clipping input data to the valid range for imshow with RGB data ([0..1] for floats or [0..255] for integers).\n",
      "Clipping input data to the valid range for imshow with RGB data ([0..1] for floats or [0..255] for integers).\n"
     ]
    },
    {
     "data": {
      "image/png": "[encoded data removed]",
      "text/plain": [
       "<Figure size 720x720 with 25 Axes>"
      ]
     },
     "metadata": {
      "needs_background": "light"
     },
     "output_type": "display_data"
    }
   ],
   "source": [
    "len_train = len(y_b)\n",
    "img_batch, label_batch = next(iter(ds_xy_b))\n",
    "plt_img_labels(img_batch, label_batch)"
   ]
  },
  {
   "cell_type": "markdown",
   "metadata": {},
   "source": [
    "__Load pretrained or create a new model__"
   ]
  },
  {
   "cell_type": "code",
   "execution_count": 31,
   "metadata": {},
   "outputs": [],
   "source": [
    "import tensorflow_privacy\n",
    "from tensorflow_privacy.privacy.optimizers.dp_optimizer import DPGradientDescentGaussianOptimizer"
   ]
  },
  {
   "cell_type": "code",
   "execution_count": 32,
   "metadata": {},
   "outputs": [],
   "source": [
    "noise_multiplier = 1.1\n",
    "l2_norm_clip = 1.5\n",
    "num_microbatches = 1\n",
    "learning_rate = 0.001\n",
    "\n",
    "DP_opt = DPGradientDescentGaussianOptimizer(\n",
    "    l2_norm_clip=l2_norm_clip,\n",
    "    noise_multiplier=noise_multiplier,\n",
    "    num_microbatches=num_microbatches,\n",
    "    learning_rate=learning_rate)"
   ]
  },
  {
   "cell_type": "code",
   "execution_count": 33,
   "metadata": {
    "collapsed": true,
    "jupyter": {
     "outputs_hidden": true
    }
   },
   "outputs": [
    {
     "name": "stdout",
     "output_type": "stream",
     "text": [
      "Model: \"sequential\"\n",
      "_________________________________________________________________\n",
      "Layer (type)                 Output Shape              Param #   \n",
      "=================================================================\n",
      "conv2d (Conv2D)              (None, 32, 32, 32)        896       \n",
      "_________________________________________________________________\n",
      "conv2d_1 (Conv2D)            (None, 32, 32, 32)        9248      \n",
      "_________________________________________________________________\n",
      "max_pooling2d (MaxPooling2D) (None, 16, 16, 32)        0         \n",
      "_________________________________________________________________\n",
      "conv2d_2 (Conv2D)            (None, 16, 16, 64)        18496     \n",
      "_________________________________________________________________\n",
      "conv2d_3 (Conv2D)            (None, 16, 16, 64)        36928     \n",
      "_________________________________________________________________\n",
      "max_pooling2d_1 (MaxPooling2 (None, 8, 8, 64)          0         \n",
      "_________________________________________________________________\n",
      "conv2d_4 (Conv2D)            (None, 8, 8, 128)         73856     \n",
      "_________________________________________________________________\n",
      "conv2d_5 (Conv2D)            (None, 8, 8, 128)         147584    \n",
      "_________________________________________________________________\n",
      "max_pooling2d_2 (MaxPooling2 (None, 4, 4, 128)         0         \n",
      "_________________________________________________________________\n",
      "flatten (Flatten)            (None, 2048)              0         \n",
      "_________________________________________________________________\n",
      "dense (Dense)                (None, 128)               262272    \n",
      "_________________________________________________________________\n",
      "dense_1 (Dense)              (None, 10)                1290      \n",
      "=================================================================\n",
      "Total params: 550,570\n",
      "Trainable params: 550,570\n",
      "Non-trainable params: 0\n",
      "_________________________________________________________________\n"
     ]
    }
   ],
   "source": [
    "create_model(input_shape, DP_opt).summary()"
   ]
  },
  {
   "cell_type": "code",
   "execution_count": 34,
   "metadata": {},
   "outputs": [
    {
     "name": "stdout",
     "output_type": "stream",
     "text": [
      "Test loss: 2.304509941339493\n",
      "Test accuracy: 0.10015625\n"
     ]
    }
   ],
   "source": [
    "pattern = 'models/targetDP1_*.h5'\n",
    "target_model = get_model(pattern, input_shape, DP_opt)\n",
    "score = target_model.evaluate(ds_xy_a, steps=200, verbose=0)\n",
    "print('Test loss:', score[0])\n",
    "print('Test accuracy:', score[1])"
   ]
  },
  {
   "cell_type": "code",
   "execution_count": null,
   "metadata": {
    "scrolled": true
   },
   "outputs": [
    {
     "name": "stdout",
     "output_type": "stream",
     "text": [
      "Epoch 1/200\n",
      "WARNING:tensorflow:From /opt/conda/lib/python3.7/site-packages/tensorflow_core/python/ops/clip_ops.py:301: where (from tensorflow.python.ops.array_ops) is deprecated and will be removed in a future version.\n",
      "Instructions for updating:\n",
      "Use tf.where in 2.0, which has the same broadcast rule as np.where\n",
      "306/312 [============================>.] - ETA: 0s - loss: 2.3091 - sparse_categorical_accuracy: 0.0934Epoch 1/200\n",
      "312/312 [==============================] - 5s 15ms/step - loss: 2.3092 - sparse_categorical_accuracy: 0.0931 - val_loss: 2.3132 - val_sparse_categorical_accuracy: 0.0939\n",
      "Epoch 2/200\n",
      "309/312 [============================>.] - ETA: 0s - loss: 2.3231 - sparse_categorical_accuracy: 0.0964Epoch 1/200\n",
      "312/312 [==============================] - 4s 13ms/step - loss: 2.3230 - sparse_categorical_accuracy: 0.0964 - val_loss: 2.3251 - val_sparse_categorical_accuracy: 0.1002\n",
      "Epoch 3/200\n",
      "307/312 [============================>.] - ETA: 0s - loss: 2.3199 - sparse_categorical_accuracy: 0.1151Epoch 1/200\n",
      "312/312 [==============================] - 4s 14ms/step - loss: 2.3196 - sparse_categorical_accuracy: 0.1157 - val_loss: 2.3243 - val_sparse_categorical_accuracy: 0.1130\n",
      "Epoch 4/200\n",
      "307/312 [============================>.] - ETA: 0s - loss: 2.3438 - sparse_categorical_accuracy: 0.1048Epoch 1/200\n",
      "312/312 [==============================] - 4s 14ms/step - loss: 2.3436 - sparse_categorical_accuracy: 0.1052 - val_loss: 2.3590 - val_sparse_categorical_accuracy: 0.0991\n",
      "Epoch 5/200\n",
      "307/312 [============================>.] - ETA: 0s - loss: 2.3516 - sparse_categorical_accuracy: 0.0987Epoch 1/200\n",
      "312/312 [==============================] - 4s 14ms/step - loss: 2.3515 - sparse_categorical_accuracy: 0.0990 - val_loss: 2.3590 - val_sparse_categorical_accuracy: 0.0997\n",
      "Epoch 6/200\n",
      "307/312 [============================>.] - ETA: 0s - loss: 2.3516 - sparse_categorical_accuracy: 0.1046Epoch 1/200\n",
      "312/312 [==============================] - 4s 14ms/step - loss: 2.3510 - sparse_categorical_accuracy: 0.1053 - val_loss: 2.3549 - val_sparse_categorical_accuracy: 0.1050\n",
      "Epoch 7/200\n",
      "307/312 [============================>.] - ETA: 0s - loss: 2.3455 - sparse_categorical_accuracy: 0.1102Epoch 1/200\n",
      "312/312 [==============================] - 4s 14ms/step - loss: 2.3459 - sparse_categorical_accuracy: 0.1099 - val_loss: 2.3569 - val_sparse_categorical_accuracy: 0.0980\n",
      "Epoch 8/200\n",
      "307/312 [============================>.] - ETA: 0s - loss: 2.3582 - sparse_categorical_accuracy: 0.0974Epoch 1/200\n",
      "312/312 [==============================] - 4s 14ms/step - loss: 2.3576 - sparse_categorical_accuracy: 0.0981 - val_loss: 2.3599 - val_sparse_categorical_accuracy: 0.0941\n",
      "Epoch 9/200\n",
      "307/312 [============================>.] - ETA: 0s - loss: 2.3547 - sparse_categorical_accuracy: 0.0998Epoch 1/200\n",
      "312/312 [==============================] - 4s 14ms/step - loss: 2.3548 - sparse_categorical_accuracy: 0.0998 - val_loss: 2.3731 - val_sparse_categorical_accuracy: 0.0833\n",
      "Epoch 10/200\n",
      "307/312 [============================>.] - ETA: 0s - loss: 2.3638 - sparse_categorical_accuracy: 0.0930Epoch 1/200\n",
      "312/312 [==============================] - 4s 13ms/step - loss: 2.3637 - sparse_categorical_accuracy: 0.0932 - val_loss: 2.3592 - val_sparse_categorical_accuracy: 0.0972\n",
      "Epoch 11/200\n",
      "307/312 [============================>.] - ETA: 0s - loss: 2.3645 - sparse_categorical_accuracy: 0.0934Epoch 1/200\n",
      "312/312 [==============================] - 4s 13ms/step - loss: 2.3649 - sparse_categorical_accuracy: 0.0931 - val_loss: 2.3591 - val_sparse_categorical_accuracy: 0.0988\n",
      "Epoch 12/200\n",
      "307/312 [============================>.] - ETA: 0s - loss: 2.3664 - sparse_categorical_accuracy: 0.0911Epoch 1/200\n",
      "312/312 [==============================] - 4s 13ms/step - loss: 2.3663 - sparse_categorical_accuracy: 0.0912 - val_loss: 2.3637 - val_sparse_categorical_accuracy: 0.0947\n",
      "Epoch 13/200\n",
      "307/312 [============================>.] - ETA: 0s - loss: 2.3623 - sparse_categorical_accuracy: 0.0976Epoch 1/200\n",
      "312/312 [==============================] - 4s 13ms/step - loss: 2.3620 - sparse_categorical_accuracy: 0.0979 - val_loss: 2.3634 - val_sparse_categorical_accuracy: 0.0967\n",
      "Epoch 14/200\n",
      "307/312 [============================>.] - ETA: 0s - loss: 2.3694 - sparse_categorical_accuracy: 0.0903Epoch 1/200\n",
      "312/312 [==============================] - 4s 14ms/step - loss: 2.3700 - sparse_categorical_accuracy: 0.0896 - val_loss: 2.3773 - val_sparse_categorical_accuracy: 0.0825\n",
      "Epoch 15/200\n",
      "307/312 [============================>.] - ETA: 0s - loss: 2.3552 - sparse_categorical_accuracy: 0.1055Epoch 1/200\n",
      "312/312 [==============================] - 5s 15ms/step - loss: 2.3551 - sparse_categorical_accuracy: 0.1056 - val_loss: 2.3556 - val_sparse_categorical_accuracy: 0.1048\n",
      "Epoch 16/200\n",
      "307/312 [============================>.] - ETA: 0s - loss: 2.3556 - sparse_categorical_accuracy: 0.1049Epoch 1/200\n",
      "312/312 [==============================] - 4s 14ms/step - loss: 2.3558 - sparse_categorical_accuracy: 0.1048 - val_loss: 2.3701 - val_sparse_categorical_accuracy: 0.0906\n",
      "Epoch 17/200\n",
      "307/312 [============================>.] - ETA: 0s - loss: 2.3584 - sparse_categorical_accuracy: 0.1021Epoch 1/200\n",
      "312/312 [==============================] - 4s 14ms/step - loss: 2.3590 - sparse_categorical_accuracy: 0.1015 - val_loss: 2.3565 - val_sparse_categorical_accuracy: 0.1041\n",
      "Epoch 18/200\n",
      "307/312 [============================>.] - ETA: 0s - loss: 2.3550 - sparse_categorical_accuracy: 0.1053Epoch 1/200\n",
      "312/312 [==============================] - 4s 13ms/step - loss: 2.3545 - sparse_categorical_accuracy: 0.1057 - val_loss: 2.3533 - val_sparse_categorical_accuracy: 0.1075\n",
      "Epoch 19/200\n",
      "307/312 [============================>.] - ETA: 0s - loss: 2.3571 - sparse_categorical_accuracy: 0.1038Epoch 1/200\n",
      "312/312 [==============================] - 4s 13ms/step - loss: 2.3570 - sparse_categorical_accuracy: 0.1040 - val_loss: 2.3598 - val_sparse_categorical_accuracy: 0.1003\n",
      "Epoch 20/200\n",
      "307/312 [============================>.] - ETA: 0s - loss: 2.3502 - sparse_categorical_accuracy: 0.1103Epoch 1/200\n",
      "312/312 [==============================] - 4s 13ms/step - loss: 2.3502 - sparse_categorical_accuracy: 0.1103 - val_loss: 2.3654 - val_sparse_categorical_accuracy: 0.0958\n",
      "Epoch 21/200\n",
      "307/312 [============================>.] - ETA: 0s - loss: 2.3615 - sparse_categorical_accuracy: 0.0990Epoch 1/200\n",
      "312/312 [==============================] - 4s 14ms/step - loss: 2.3617 - sparse_categorical_accuracy: 0.0989 - val_loss: 2.3554 - val_sparse_categorical_accuracy: 0.1053\n",
      "Epoch 22/200\n",
      "307/312 [============================>.] - ETA: 0s - loss: 2.3511 - sparse_categorical_accuracy: 0.1098Epoch 1/200\n",
      "312/312 [==============================] - 4s 14ms/step - loss: 2.3507 - sparse_categorical_accuracy: 0.1102 - val_loss: 2.3560 - val_sparse_categorical_accuracy: 0.1044\n",
      "Epoch 23/200\n",
      "307/312 [============================>.] - ETA: 0s - loss: 2.3521 - sparse_categorical_accuracy: 0.1084Epoch 1/200\n",
      "312/312 [==============================] - 4s 13ms/step - loss: 2.3527 - sparse_categorical_accuracy: 0.1078 - val_loss: 2.3621 - val_sparse_categorical_accuracy: 0.0986\n",
      "Epoch 24/200\n",
      "307/312 [============================>.] - ETA: 0s - loss: 2.3527 - sparse_categorical_accuracy: 0.1082Epoch 1/200\n",
      "312/312 [==============================] - 4s 14ms/step - loss: 2.3532 - sparse_categorical_accuracy: 0.1077 - val_loss: 2.3475 - val_sparse_categorical_accuracy: 0.1130\n",
      "Epoch 25/200\n",
      "307/312 [============================>.] - ETA: 0s - loss: 2.3522 - sparse_categorical_accuracy: 0.1088Epoch 1/200\n",
      "312/312 [==============================] - 4s 13ms/step - loss: 2.3521 - sparse_categorical_accuracy: 0.1090 - val_loss: 2.3606 - val_sparse_categorical_accuracy: 0.1002\n",
      "Epoch 26/200\n",
      "307/312 [============================>.] - ETA: 0s - loss: 2.3545 - sparse_categorical_accuracy: 0.1066Epoch 1/200\n",
      "312/312 [==============================] - 4s 14ms/step - loss: 2.3546 - sparse_categorical_accuracy: 0.1065 - val_loss: 2.3604 - val_sparse_categorical_accuracy: 0.1006\n",
      "Epoch 27/200\n",
      "306/312 [============================>.] - ETA: 0s - loss: 2.3703 - sparse_categorical_accuracy: 0.0906Epoch 1/200\n",
      "312/312 [==============================] - 4s 14ms/step - loss: 2.3707 - sparse_categorical_accuracy: 0.0902 - val_loss: 2.3739 - val_sparse_categorical_accuracy: 0.0870\n",
      "Epoch 28/200\n",
      "307/312 [============================>.] - ETA: 0s - loss: 2.3809 - sparse_categorical_accuracy: 0.0799Epoch 1/200\n",
      "312/312 [==============================] - 4s 13ms/step - loss: 2.3809 - sparse_categorical_accuracy: 0.0799 - val_loss: 2.3847 - val_sparse_categorical_accuracy: 0.0761\n",
      "Epoch 29/200\n",
      "307/312 [============================>.] - ETA: 0s - loss: 2.3859 - sparse_categorical_accuracy: 0.0750Epoch 1/200\n",
      "312/312 [==============================] - 4s 13ms/step - loss: 2.3863 - sparse_categorical_accuracy: 0.0745 - val_loss: 2.3891 - val_sparse_categorical_accuracy: 0.0719\n",
      "Epoch 30/200\n",
      "307/312 [============================>.] - ETA: 0s - loss: 2.3618 - sparse_categorical_accuracy: 0.0993Epoch 1/200\n",
      "312/312 [==============================] - 4s 14ms/step - loss: 2.3609 - sparse_categorical_accuracy: 0.1002 - val_loss: 2.3654 - val_sparse_categorical_accuracy: 0.0958\n",
      "Epoch 31/200\n",
      "307/312 [============================>.] - ETA: 0s - loss: 2.3624 - sparse_categorical_accuracy: 0.0987Epoch 1/200\n",
      "312/312 [==============================] - 4s 13ms/step - loss: 2.3625 - sparse_categorical_accuracy: 0.0986 - val_loss: 2.3741 - val_sparse_categorical_accuracy: 0.0869\n",
      "Epoch 32/200\n",
      "307/312 [============================>.] - ETA: 0s - loss: 2.3797 - sparse_categorical_accuracy: 0.0813Epoch 1/200\n",
      "312/312 [==============================] - 4s 13ms/step - loss: 2.3798 - sparse_categorical_accuracy: 0.0812 - val_loss: 2.3783 - val_sparse_categorical_accuracy: 0.0828\n",
      "Epoch 33/200\n",
      "307/312 [============================>.] - ETA: 0s - loss: 2.3825 - sparse_categorical_accuracy: 0.0786Epoch 1/200\n",
      "312/312 [==============================] - 4s 13ms/step - loss: 2.3824 - sparse_categorical_accuracy: 0.0787 - val_loss: 2.3628 - val_sparse_categorical_accuracy: 0.0983\n",
      "Epoch 34/200\n",
      "307/312 [============================>.] - ETA: 0s - loss: 2.3634 - sparse_categorical_accuracy: 0.0976Epoch 1/200\n",
      "312/312 [==============================] - 4s 13ms/step - loss: 2.3635 - sparse_categorical_accuracy: 0.0976 - val_loss: 2.3636 - val_sparse_categorical_accuracy: 0.0975\n",
      "Epoch 35/200\n",
      "307/312 [============================>.] - ETA: 0s - loss: 2.3608 - sparse_categorical_accuracy: 0.1003Epoch 1/200\n",
      "312/312 [==============================] - 4s 13ms/step - loss: 2.3609 - sparse_categorical_accuracy: 0.1002 - val_loss: 2.3677 - val_sparse_categorical_accuracy: 0.0934\n",
      "Epoch 36/200\n",
      "307/312 [============================>.] - ETA: 0s - loss: 2.3592 - sparse_categorical_accuracy: 0.1019Epoch 1/200\n",
      "312/312 [==============================] - 4s 13ms/step - loss: 2.3590 - sparse_categorical_accuracy: 0.1021 - val_loss: 2.3675 - val_sparse_categorical_accuracy: 0.0936\n",
      "Epoch 37/200\n",
      "307/312 [============================>.] - ETA: 0s - loss: 2.3639 - sparse_categorical_accuracy: 0.0972Epoch 1/200\n",
      "312/312 [==============================] - 4s 13ms/step - loss: 2.3641 - sparse_categorical_accuracy: 0.0970 - val_loss: 2.3667 - val_sparse_categorical_accuracy: 0.0945\n",
      "Epoch 38/200\n",
      "307/312 [============================>.] - ETA: 0s - loss: 2.3580 - sparse_categorical_accuracy: 0.1031Epoch 1/200\n",
      "312/312 [==============================] - 4s 13ms/step - loss: 2.3577 - sparse_categorical_accuracy: 0.1034 - val_loss: 2.3643 - val_sparse_categorical_accuracy: 0.0969\n",
      "Epoch 39/200\n",
      "307/312 [============================>.] - ETA: 0s - loss: 2.3599 - sparse_categorical_accuracy: 0.1013Epoch 1/200\n",
      "312/312 [==============================] - 4s 13ms/step - loss: 2.3595 - sparse_categorical_accuracy: 0.1017 - val_loss: 2.3668 - val_sparse_categorical_accuracy: 0.0944\n",
      "Epoch 40/200\n",
      "307/312 [============================>.] - ETA: 0s - loss: 2.3723 - sparse_categorical_accuracy: 0.0889Epoch 1/200\n",
      "312/312 [==============================] - 4s 13ms/step - loss: 2.3728 - sparse_categorical_accuracy: 0.0884 - val_loss: 2.3847 - val_sparse_categorical_accuracy: 0.0764\n",
      "Epoch 41/200\n",
      "307/312 [============================>.] - ETA: 0s - loss: 2.3773 - sparse_categorical_accuracy: 0.0838Epoch 1/200\n",
      "312/312 [==============================] - 4s 13ms/step - loss: 2.3765 - sparse_categorical_accuracy: 0.0845 - val_loss: 2.3635 - val_sparse_categorical_accuracy: 0.0977\n",
      "Epoch 42/200\n",
      "307/312 [============================>.] - ETA: 0s - loss: 2.3723 - sparse_categorical_accuracy: 0.0889Epoch 1/200\n",
      "312/312 [==============================] - 5s 15ms/step - loss: 2.3719 - sparse_categorical_accuracy: 0.0892 - val_loss: 2.3623 - val_sparse_categorical_accuracy: 0.0988\n",
      "Epoch 43/200\n",
      "306/312 [============================>.] - ETA: 0s - loss: 2.3691 - sparse_categorical_accuracy: 0.0920Epoch 1/200\n",
      "312/312 [==============================] - 5s 15ms/step - loss: 2.3689 - sparse_categorical_accuracy: 0.0921 - val_loss: 2.3652 - val_sparse_categorical_accuracy: 0.0959\n",
      "Epoch 44/200\n",
      "307/312 [============================>.] - ETA: 0s - loss: 2.3822 - sparse_categorical_accuracy: 0.0789Epoch 1/200\n",
      "312/312 [==============================] - 4s 14ms/step - loss: 2.3825 - sparse_categorical_accuracy: 0.0786 - val_loss: 2.3884 - val_sparse_categorical_accuracy: 0.0727\n",
      "Epoch 45/200\n",
      "307/312 [============================>.] - ETA: 0s - loss: 2.3841 - sparse_categorical_accuracy: 0.0771Epoch 1/200\n",
      "312/312 [==============================] - 4s 13ms/step - loss: 2.3845 - sparse_categorical_accuracy: 0.0766 - val_loss: 2.3657 - val_sparse_categorical_accuracy: 0.0955\n",
      "Epoch 46/200\n",
      "306/312 [============================>.] - ETA: 0s - loss: 2.3615 - sparse_categorical_accuracy: 0.0996Epoch 1/200\n",
      "312/312 [==============================] - 4s 14ms/step - loss: 2.3612 - sparse_categorical_accuracy: 0.0999 - val_loss: 2.3588 - val_sparse_categorical_accuracy: 0.1023\n",
      "Epoch 47/200\n",
      "307/312 [============================>.] - ETA: 0s - loss: 2.3512 - sparse_categorical_accuracy: 0.1099Epoch 1/200\n",
      "312/312 [==============================] - 4s 13ms/step - loss: 2.3513 - sparse_categorical_accuracy: 0.1099 - val_loss: 2.3632 - val_sparse_categorical_accuracy: 0.0980\n",
      "Epoch 48/200\n",
      "307/312 [============================>.] - ETA: 0s - loss: 2.3633 - sparse_categorical_accuracy: 0.0978Epoch 1/200\n",
      "312/312 [==============================] - 4s 13ms/step - loss: 2.3624 - sparse_categorical_accuracy: 0.0988 - val_loss: 2.3687 - val_sparse_categorical_accuracy: 0.0925\n",
      "Epoch 49/200\n",
      "307/312 [============================>.] - ETA: 0s - loss: 2.3585 - sparse_categorical_accuracy: 0.1026Epoch 1/200\n",
      "312/312 [==============================] - 4s 13ms/step - loss: 2.3584 - sparse_categorical_accuracy: 0.1028 - val_loss: 2.3431 - val_sparse_categorical_accuracy: 0.1180\n",
      "Epoch 50/200\n",
      "307/312 [============================>.] - ETA: 0s - loss: 2.3466 - sparse_categorical_accuracy: 0.1145Epoch 1/200\n",
      "312/312 [==============================] - 4s 13ms/step - loss: 2.3467 - sparse_categorical_accuracy: 0.1145 - val_loss: 2.3540 - val_sparse_categorical_accuracy: 0.1070\n",
      "Epoch 51/200\n",
      "307/312 [============================>.] - ETA: 0s - loss: 2.3531 - sparse_categorical_accuracy: 0.1080Epoch 1/200\n",
      "312/312 [==============================] - 4s 14ms/step - loss: 2.3532 - sparse_categorical_accuracy: 0.1080 - val_loss: 2.3460 - val_sparse_categorical_accuracy: 0.1152\n",
      "Epoch 52/200\n",
      "307/312 [============================>.] - ETA: 0s - loss: 2.3444 - sparse_categorical_accuracy: 0.1168Epoch 1/200\n",
      "312/312 [==============================] - 4s 14ms/step - loss: 2.3445 - sparse_categorical_accuracy: 0.1167 - val_loss: 2.3447 - val_sparse_categorical_accuracy: 0.1164\n",
      "Epoch 53/200\n",
      "307/312 [============================>.] - ETA: 0s - loss: 2.3478 - sparse_categorical_accuracy: 0.1133Epoch 1/200\n",
      "312/312 [==============================] - 4s 14ms/step - loss: 2.3476 - sparse_categorical_accuracy: 0.1136 - val_loss: 2.3571 - val_sparse_categorical_accuracy: 0.1041\n",
      "Epoch 54/200\n",
      "307/312 [============================>.] - ETA: 0s - loss: 2.3483 - sparse_categorical_accuracy: 0.1129Epoch 1/200\n",
      "312/312 [==============================] - 4s 13ms/step - loss: 2.3474 - sparse_categorical_accuracy: 0.1138 - val_loss: 2.3430 - val_sparse_categorical_accuracy: 0.1181\n",
      "Epoch 55/200\n",
      "307/312 [============================>.] - ETA: 0s - loss: 2.3588 - sparse_categorical_accuracy: 0.1024Epoch 1/200\n",
      "312/312 [==============================] - 4s 14ms/step - loss: 2.3584 - sparse_categorical_accuracy: 0.1028 - val_loss: 2.3739 - val_sparse_categorical_accuracy: 0.0872\n",
      "Epoch 56/200\n",
      "307/312 [============================>.] - ETA: 0s - loss: 2.3647 - sparse_categorical_accuracy: 0.0964Epoch 1/200\n",
      "312/312 [==============================] - 4s 13ms/step - loss: 2.3641 - sparse_categorical_accuracy: 0.0970 - val_loss: 2.3622 - val_sparse_categorical_accuracy: 0.0989\n",
      "Epoch 57/200\n",
      "307/312 [============================>.] - ETA: 0s - loss: 2.3608 - sparse_categorical_accuracy: 0.1004Epoch 1/200\n",
      "312/312 [==============================] - 4s 13ms/step - loss: 2.3604 - sparse_categorical_accuracy: 0.1008 - val_loss: 2.3577 - val_sparse_categorical_accuracy: 0.1034\n",
      "Epoch 58/200\n",
      "307/312 [============================>.] - ETA: 0s - loss: 2.3556 - sparse_categorical_accuracy: 0.1056Epoch 1/200\n",
      "312/312 [==============================] - 4s 13ms/step - loss: 2.3552 - sparse_categorical_accuracy: 0.1060 - val_loss: 2.3556 - val_sparse_categorical_accuracy: 0.1055\n",
      "Epoch 59/200\n",
      "307/312 [============================>.] - ETA: 0s - loss: 2.3511 - sparse_categorical_accuracy: 0.1100Epoch 1/200\n",
      "312/312 [==============================] - 4s 14ms/step - loss: 2.3507 - sparse_categorical_accuracy: 0.1105 - val_loss: 2.3386 - val_sparse_categorical_accuracy: 0.1225\n",
      "Epoch 60/200\n",
      "306/312 [============================>.] - ETA: 0s - loss: 2.3561 - sparse_categorical_accuracy: 0.1051Epoch 1/200\n",
      "312/312 [==============================] - 4s 14ms/step - loss: 2.3556 - sparse_categorical_accuracy: 0.1056 - val_loss: 2.3596 - val_sparse_categorical_accuracy: 0.1016\n",
      "Epoch 61/200\n",
      "307/312 [============================>.] - ETA: 0s - loss: 2.3623 - sparse_categorical_accuracy: 0.0988Epoch 1/200\n",
      "312/312 [==============================] - 4s 13ms/step - loss: 2.3626 - sparse_categorical_accuracy: 0.0986 - val_loss: 2.3594 - val_sparse_categorical_accuracy: 0.1017\n",
      "Epoch 62/200\n",
      "307/312 [============================>.] - ETA: 0s - loss: 2.3596 - sparse_categorical_accuracy: 0.1016Epoch 1/200\n",
      "312/312 [==============================] - 4s 14ms/step - loss: 2.3596 - sparse_categorical_accuracy: 0.1016 - val_loss: 2.3569 - val_sparse_categorical_accuracy: 0.1042\n",
      "Epoch 63/200\n",
      "307/312 [============================>.] - ETA: 0s - loss: 2.3567 - sparse_categorical_accuracy: 0.1044Epoch 1/200\n",
      "312/312 [==============================] - 4s 14ms/step - loss: 2.3568 - sparse_categorical_accuracy: 0.1044 - val_loss: 2.3568 - val_sparse_categorical_accuracy: 0.1044\n",
      "Epoch 64/200\n",
      "307/312 [============================>.] - ETA: 0s - loss: 2.3605 - sparse_categorical_accuracy: 0.1007Epoch 1/200\n",
      "169/312 [===============>..............] - ETA: 1s - loss: 2.3604 - sparse_categorical_accuracy: 0.1008"
     ]
    }
   ],
   "source": [
    "if train_target:\n",
    "    history = target_model.fit(ds_xy_b,\n",
    "                epochs=NUM_EPOCHS,\n",
    "                steps_per_epoch=len_train//BATCH_SIZE,\n",
    "                verbose=1,\n",
    "                validation_data=(ds_xy_a),\n",
    "                validation_steps=200)\n",
    "    score = target_model.evaluate(ds_xy_a, steps=200, verbose=0)\n",
    "    print('Test loss:', score[0])\n",
    "    print('Test accuracy:', score[1])"
   ]
  },
  {
   "cell_type": "markdown",
   "metadata": {},
   "source": [
    "__Save the model__"
   ]
  },
  {
   "cell_type": "code",
   "execution_count": null,
   "metadata": {},
   "outputs": [],
   "source": [
    "save_new_model(pattern, target_model)"
   ]
  },
  {
   "cell_type": "code",
   "execution_count": null,
   "metadata": {},
   "outputs": [],
   "source": [
    "target_model = get_model(pattern, input_shape, DP_opt)\n",
    "target_model.summary()"
   ]
  },
  {
   "cell_type": "markdown",
   "metadata": {},
   "source": [
    "## Train the shadow model"
   ]
  },
  {
   "cell_type": "code",
   "execution_count": null,
   "metadata": {},
   "outputs": [],
   "source": [
    "ds_prim_in = input_fn(x_prim_in, y_prim_in)\n",
    "ds_prim_out = input_fn(x_prim_out, y_prim_out)\n",
    "\n",
    "img_batch, label_batch = next(iter(ds_prim_in))\n",
    "plt_img_labels(img_batch, label_batch)"
   ]
  },
  {
   "cell_type": "code",
   "execution_count": null,
   "metadata": {},
   "outputs": [],
   "source": [
    "pattern = 'models/primDP1_*.h5'\n",
    "model_shadow = get_model(pattern,input_shape, DP_opt)\n",
    "score = model_shadow.evaluate(ds_prim_out, steps=200, verbose=0)\n",
    "print('Test loss:', score[0])\n",
    "print('Test accuracy:', score[1])"
   ]
  },
  {
   "cell_type": "code",
   "execution_count": null,
   "metadata": {
    "scrolled": true
   },
   "outputs": [],
   "source": [
    "if train_shadow:\n",
    "    history_shadow = model_shadow.fit(ds_prim_in,\n",
    "                                  epochs=NUM_EPOCHS,\n",
    "                                  steps_per_epoch=len_train//BATCH_SIZE,\n",
    "                                  verbose=1,\n",
    "                                  validation_data=(ds_prim_out),\n",
    "                                  validation_steps=200)\n",
    "    score = model_shadow.evaluate(ds_prim_out, steps=200, verbose=0)\n",
    "    print('Test loss:', score[0])\n",
    "    print('Test accuracy:', score[1])"
   ]
  },
  {
   "cell_type": "code",
   "execution_count": null,
   "metadata": {},
   "outputs": [],
   "source": [
    "save_new_model(pattern, model_shadow)"
   ]
  },
  {
   "cell_type": "markdown",
   "metadata": {},
   "source": [
    "## Build up the attack"
   ]
  },
  {
   "cell_type": "markdown",
   "metadata": {},
   "source": [
    "__Build a dataset $D^*$ to train the attack__"
   ]
  },
  {
   "cell_type": "markdown",
   "metadata": {},
   "source": [
    "Now that we have trained our model on the \"in\" part of the data, we can make a prediction on both dataset's parts (\"in\" and \"out\") a labelise the results. The new dataset is named $D*$"
   ]
  },
  {
   "cell_type": "code",
   "execution_count": null,
   "metadata": {},
   "outputs": [],
   "source": [
    "def input_fn_pred(x):\n",
    "    ds_x = tf.data.Dataset.from_tensor_slices(x)\\\n",
    "                                  .map(reshape_images)\\\n",
    "                                  .batch(x.shape[0])\n",
    "    return ds_x"
   ]
  },
  {
   "cell_type": "code",
   "execution_count": null,
   "metadata": {},
   "outputs": [],
   "source": [
    "ds_x_prim_in = input_fn_pred(x_prim_in)\n",
    "ds_x_prim_out = input_fn_pred(x_prim_out)"
   ]
  },
  {
   "cell_type": "code",
   "execution_count": null,
   "metadata": {},
   "outputs": [],
   "source": [
    "x_star_in = model_shadow.predict(ds_x_prim_in)\n",
    "y_star_in = [1 for i in range(len(x_star_in))]\n",
    "\n",
    "x_star_out = model_shadow.predict(ds_x_prim_out)\n",
    "y_star_out = [0 for i in range(len(x_star_out))]"
   ]
  },
  {
   "cell_type": "code",
   "execution_count": null,
   "metadata": {},
   "outputs": [],
   "source": [
    "x_star = np.concatenate([x_star_in, x_star_out], axis=0)\n",
    "y_star = np.concatenate([y_star_in, y_star_out], axis=0)"
   ]
  },
  {
   "cell_type": "code",
   "execution_count": null,
   "metadata": {},
   "outputs": [],
   "source": [
    "len(x_star)"
   ]
  },
  {
   "cell_type": "code",
   "execution_count": null,
   "metadata": {},
   "outputs": [],
   "source": [
    "from sklearn.model_selection import train_test_split\n",
    "x_star_train, \\\n",
    "x_star_test, \\\n",
    "y_star_train, \\\n",
    "y_star_test = train_test_split(x_star, y_star, test_size =.2)"
   ]
  },
  {
   "cell_type": "markdown",
   "metadata": {},
   "source": [
    "__Create XGBOOST attack model__"
   ]
  },
  {
   "cell_type": "markdown",
   "metadata": {},
   "source": [
    "ref : https://www.datacamp.com/community/tutorials/xgboost-in-python#apply"
   ]
  },
  {
   "cell_type": "code",
   "execution_count": null,
   "metadata": {},
   "outputs": [],
   "source": [
    "clf_attack  = xgb.XGBClassifier(objective ='reg:squarederror',\n",
    "                                colsample_bytree = 0.8,\n",
    "                                learning_rate = 0.01,\n",
    "                                max_depth = 5,\n",
    "                                alpha = 10,\n",
    "                                n_estimators = 20)\n",
    "\n",
    "clf_attack.fit(x_star_train, y_star_train)\n",
    "print(\"Accuracy:\", metrics.accuracy_score(y_star_test, clf_attack.predict(x_star_test)))"
   ]
  },
  {
   "cell_type": "code",
   "execution_count": null,
   "metadata": {
    "scrolled": true
   },
   "outputs": [],
   "source": [
    "clf_attack  = xgb.XGBClassifier(objective ='reg:squarederror',\n",
    "                                colsample_bytree = 0.3,\n",
    "                                learning_rate = 0.1,\n",
    "                                max_depth = 5,\n",
    "                                alpha = 10,\n",
    "                                n_estimators = 10)\n",
    "clf_attack.fit(x_star,y_star)"
   ]
  },
  {
   "cell_type": "markdown",
   "metadata": {},
   "source": [
    "# Test the attack against the true data set D"
   ]
  },
  {
   "cell_type": "code",
   "execution_count": null,
   "metadata": {},
   "outputs": [],
   "source": [
    "def get_predictions_and_labels(target_model, attack_model, data, label):\n",
    "    \n",
    "    ds_data = input_fn_pred(data)\n",
    "    \n",
    "    # Information we have thanks to the API (original model)\n",
    "    probas   = target_model.predict(ds_data)\n",
    "\n",
    "    # Model we have trained to make the attack\n",
    "    prediction = clf_attack.predict(probas)\n",
    "\n",
    "    # Results zipping prediction an true labels\n",
    "    result  = pd.DataFrame(zip(prediction, [label for i in range(len(probas))]), \n",
    "                           columns = (\"y_pred\", \"y\"))\n",
    "    \n",
    "    return result"
   ]
  },
  {
   "cell_type": "markdown",
   "metadata": {},
   "source": [
    "Results for images out of the training dataset"
   ]
  },
  {
   "cell_type": "code",
   "execution_count": null,
   "metadata": {},
   "outputs": [],
   "source": [
    "results_a = get_predictions_and_labels(target_model = target_model, \n",
    "                                       attack_model=clf_attack, \n",
    "                                       data=x_a, label=0)"
   ]
  },
  {
   "cell_type": "markdown",
   "metadata": {},
   "source": [
    "Results for images in the training dataset"
   ]
  },
  {
   "cell_type": "code",
   "execution_count": null,
   "metadata": {},
   "outputs": [],
   "source": [
    "results_b = get_predictions_and_labels(target_model = target_model, \n",
    "                                       attack_model=clf_attack,\n",
    "                                       data=x_b, label=1)"
   ]
  },
  {
   "cell_type": "markdown",
   "metadata": {},
   "source": [
    "Measure the accuracy of the attack"
   ]
  },
  {
   "cell_type": "code",
   "execution_count": null,
   "metadata": {
    "scrolled": true
   },
   "outputs": [],
   "source": [
    "attack_results = pd.concat([results_a, results_b]).reset_index().drop(\"index\", axis=1)"
   ]
  },
  {
   "cell_type": "code",
   "execution_count": null,
   "metadata": {
    "scrolled": true
   },
   "outputs": [],
   "source": [
    "print(\"Accuracy:\", metrics.accuracy_score(attack_results[\"y\"], attack_results[\"y_pred\"]))"
   ]
  },
  {
   "cell_type": "markdown",
   "metadata": {},
   "source": [
    "## save results"
   ]
  },
  {
   "cell_type": "code",
   "execution_count": null,
   "metadata": {},
   "outputs": [],
   "source": [
    "target_model.compile(loss=tf.keras.losses.SparseCategoricalCrossentropy(from_logits=True),\n",
    "                  optimizer=DP_opt,\n",
    "                  metrics=['sparse_categorical_accuracy'])"
   ]
  },
  {
   "cell_type": "code",
   "execution_count": null,
   "metadata": {},
   "outputs": [],
   "source": [
    "model_shadow.compile(loss=tf.keras.losses.SparseCategoricalCrossentropy(from_logits=True),\n",
    "                     optimizer=DP_opt,\n",
    "                     metrics=['sparse_categorical_accuracy'])"
   ]
  },
  {
   "cell_type": "code",
   "execution_count": null,
   "metadata": {},
   "outputs": [],
   "source": [
    "result_dict = {\n",
    "    \"dataset\" : [\"cifar10\"],\n",
    "    \"attack_model\" : [\"XGBoost\"],\n",
    "    \"accuracy_target\" : [target_model.evaluate(ds_xy_a, steps=200, verbose=0)[1]],\n",
    "    \"accuracy_shadow\" : [model_shadow.evaluate(ds_prim_out, steps=200, verbose=0)[1]],\n",
    "    \"accurracy_attack\" : [metrics.accuracy_score(attack_results[\"y\"], attack_results[\"y_pred\"])],\n",
    "    \"DP_multiplicator\" : [noise_multiplier]\n",
    "}\n",
    "\n",
    "result_pd = pd.DataFrame(result_dict)"
   ]
  },
  {
   "cell_type": "code",
   "execution_count": null,
   "metadata": {},
   "outputs": [],
   "source": [
    "if \"results.csv\" in os.listdir(\"models\"):\n",
    "    main_pd = pd.read_csv(\"models/results.csv\", index_col=0)\n",
    "    result_pd = pd.concat([main_pd, result_pd], ignore_index=True)"
   ]
  },
  {
   "cell_type": "code",
   "execution_count": null,
   "metadata": {},
   "outputs": [],
   "source": [
    "result_pd.to_csv(\"models/results.csv\")"
   ]
  }
 ],
 "metadata": {
  "environment": {
   "name": "tf22-gpu.2-2.m47",
   "type": "gcloud",
   "uri": "gcr.io/deeplearning-platform-release/tf22-gpu.2-2:m47"
  },
  "kernelspec": {
   "display_name": "Python 3",
   "language": "python",
   "name": "python3"
  },
  "language_info": {
   "codemirror_mode": {
    "name": "ipython",
    "version": 3
   },
   "file_extension": ".py",
   "mimetype": "text/x-python",
   "name": "python",
   "nbconvert_exporter": "python",
   "pygments_lexer": "ipython3",
   "version": "3.7.6"
  }
 },
 "nbformat": 4,
 "nbformat_minor": 4
}
